{
  "nbformat": 4,
  "nbformat_minor": 0,
  "metadata": {
    "colab": {
      "provenance": []
    },
    "kernelspec": {
      "name": "python3",
      "display_name": "Python 3"
    },
    "language_info": {
      "name": "python"
    }
  },
  "cells": [
    {
      "cell_type": "markdown",
      "source": [
        "### Задача 1.\n",
        "На столе лежат n монеток. Некоторые из них лежат вверх решкой, а некоторые – гербом. Определите минимальное число монеток, которые нужно перевернуть, чтобы все монетки были повернуты вверх одной и той же стороной. Выведите минимальное количество монет, которые нужно перевернуть"
      ],
      "metadata": {
        "id": "pZIhhYd7xnxY"
      }
    },
    {
      "cell_type": "code",
      "source": [
        "import random\n",
        "from random import randint"
      ],
      "metadata": {
        "id": "SO2pNhmmy5SW"
      },
      "execution_count": 9,
      "outputs": []
    },
    {
      "cell_type": "code",
      "source": [
        "N = randint(1,10)\n",
        "print('Число монет:', N)\n",
        "arr = [randint(0, 1) for x in range(1, N+1)]\n",
        "print('Положение монет:', arr)\n",
        "reshka = 0\n",
        "orel = 0\n",
        "i=0\n",
        "for i in range(N-1):\n",
        "  if arr[i] == 1:\n",
        "    orel+=1\n",
        "  else:\n",
        "    reshka+=1\n",
        "if orel<reshka:\n",
        "  print('Минимальное количество монет:', orel)\n",
        "else:\n",
        "  print('Минимальное количество монет:', reshka)\n"
      ],
      "metadata": {
        "colab": {
          "base_uri": "https://localhost:8080/"
        },
        "id": "jO5Ld9V6xexY",
        "outputId": "e89b8815-e4b5-4de4-e7af-9e0e331275d6"
      },
      "execution_count": 26,
      "outputs": [
        {
          "output_type": "stream",
          "name": "stdout",
          "text": [
            "Число монет: 8\n",
            "Положение монет: [0, 0, 0, 0, 1, 0, 0, 0]\n",
            "Минимальное количество монет: 1\n"
          ]
        }
      ]
    },
    {
      "cell_type": "markdown",
      "source": [
        "###Задача 2.\n",
        "Петя и Катя – брат и сестра. Петя – студент, а Катя – школьница. Петя помогает Кате по математике. Он задумывает два натуральных числа X и Y (X,Y≤1000), а Катя должна их отгадать. Для этого Петя делает две подсказки. Он называет сумму этих чисел S и их произведение P. Помогите Кате отгадать задуманные Петей числа."
      ],
      "metadata": {
        "id": "7_OsyR7lxfYv"
      }
    },
    {
      "cell_type": "code",
      "execution_count": 6,
      "metadata": {
        "colab": {
          "base_uri": "https://localhost:8080/"
        },
        "id": "6_95l-Lxv_yg",
        "outputId": "375d3d51-f115-42ff-a579-6147a611ea20"
      },
      "outputs": [
        {
          "output_type": "stream",
          "name": "stdout",
          "text": [
            "Введите сумму и произведение двух чисел\n",
            "15 56\n",
            "Загаданные числа: 7 8\n"
          ]
        }
      ],
      "source": [
        "print('Введите сумму и произведение двух чисел')\n",
        "a, b = map(int, input().split())\n",
        "c = 0\n",
        "for i in range(a + b):\n",
        "    if c:\n",
        "        break\n",
        "    for j in range(a + b):\n",
        "        if i + j == a and i * j == b:\n",
        "            c = 1\n",
        "            print('Загаданные числа:', i, j)\n",
        "            break"
      ]
    },
    {
      "cell_type": "markdown",
      "source": [
        "### Задача 3.\n",
        "Требуется вывести все целые степени двойки (т.е. числа вида 2k), не превосходящие числа N."
      ],
      "metadata": {
        "id": "UruUfDmnxty3"
      }
    },
    {
      "cell_type": "code",
      "source": [
        "N = randint(1,1000)\n",
        "print('Число N =',N)\n",
        "list = []\n",
        "for i in range(N):\n",
        "  if 2**i < N:\n",
        "    list.append(2**i)\n",
        "  else:\n",
        "    break\n",
        "print('Список степеней двойки не превосходящие N', list)"
      ],
      "metadata": {
        "colab": {
          "base_uri": "https://localhost:8080/"
        },
        "id": "hwgT-xTSxzrk",
        "outputId": "54bde98c-7bef-4683-ca0b-7108e3a58d5a"
      },
      "execution_count": 30,
      "outputs": [
        {
          "output_type": "stream",
          "name": "stdout",
          "text": [
            "Число N = 754\n",
            "Список степеней двойки не превосходящие N [1, 2, 4, 8, 16, 32, 64, 128, 256, 512]\n"
          ]
        }
      ]
    }
  ]
}